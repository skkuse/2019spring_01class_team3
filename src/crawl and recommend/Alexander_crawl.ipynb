{
 "cells": [
  {
   "cell_type": "markdown",
   "metadata": {},
   "source": [
    "### 코드 작성자: 한대룡\n",
    "### 기능: Alexandermcqueen 사이트를 크롤링하는 기능"
   ]
  },
  {
   "cell_type": "markdown",
   "metadata": {},
   "source": [
    "## Alexandermcqueen"
   ]
  },
  {
   "cell_type": "code",
   "execution_count": 13,
   "metadata": {},
   "outputs": [],
   "source": [
    "from selenium import webdriver\n",
    "from selenium.webdriver.common.keys import Keys\n",
    "from bs4 import BeautifulSoup\n",
    "import numpy as np\n",
    "import time\n",
    "from selenium.common.exceptions import NoSuchElementException,StaleElementReferenceException\n",
    "import urllib.request\n",
    "import pandas as pd"
   ]
  },
  {
   "cell_type": "markdown",
   "metadata": {},
   "source": [
    "## Url load"
   ]
  },
  {
   "cell_type": "code",
   "execution_count": 17,
   "metadata": {},
   "outputs": [],
   "source": [
    "def url_load(Country, Category, Gender):\n",
    "    url = 'https://www.alexandermcqueen.com'\n",
    "\n",
    "    if(Country == \"KR\"):\n",
    "        country = \"kr\"\n",
    "        \n",
    "        if(Category == \"Clothes\"):\n",
    "            category = \"레디-투-웨어\"\n",
    "        elif(Category ==\"Shoes\"):\n",
    "            category = \"슈즈\"\n",
    "        elif(Category ==\"Bags\"):\n",
    "            category = \"백\"\n",
    "        \n",
    "        if(Gender == \"Male\"):\n",
    "            gender = \"남자\"\n",
    "        elif(Gender ==\"Female\"):\n",
    "            gender = \"여성\"\n",
    "        \n",
    "        \n",
    "    elif(Country == \"US\"):\n",
    "        country = \"us\"\n",
    "        \n",
    "        if(Category == \"Clothes\"):\n",
    "            category = \"ready-to-wear\"\n",
    "        elif(Category ==\"Shoes\"):\n",
    "            category = \"shoes\"\n",
    "        elif(Category ==\"Bags\"):\n",
    "            category = \"bags\"\n",
    "        \n",
    "        if(Gender == \"Male\"):\n",
    "            gender = \"men\"\n",
    "        elif(Gender ==\"Female\"):\n",
    "            gender = \"women\"\n",
    "        \n",
    "        \n",
    "    elif(Country == \"FR\"):\n",
    "        country = \"fr\"\n",
    "        \n",
    "        if(Category == \"Clothes\"):\n",
    "            category = \"pret-a-porter\"\n",
    "        elif(Category ==\"Shoes\"):\n",
    "            category = \"chaussures\"\n",
    "        elif(Category ==\"Bags\"):\n",
    "            category = \"sacs\"\n",
    "        \n",
    "        if(Gender == \"Male\"):\n",
    "            gender = \"homme\"\n",
    "        elif(Gender ==\"Female\"):\n",
    "            gender = \"femme\"\n",
    "        \n",
    "        \n",
    "    elif(Country == \"JP\"):\n",
    "        country = \"jp\"\n",
    "        \n",
    "        if(Category == \"Clothes\"):\n",
    "            category = \"ウェア\"\n",
    "        elif(Category ==\"Shoes\"):\n",
    "            category = \"シューズ\"\n",
    "        elif(Category ==\"Bags\"):\n",
    "            category = \"バッグ\"\n",
    "        \n",
    "        if(Gender == \"Male\"):\n",
    "            gender = \"メンズ\"\n",
    "        elif(Gender ==\"Female\"):\n",
    "            gender = \"レディース\"\n",
    "        \n",
    "    url = url + \"/\" + country + \"/alexandermcqueen/online/\" + gender + \"/\" + category\n",
    "    \n",
    "    print(url)\n",
    "    return(url)"
   ]
  },
  {
   "cell_type": "code",
   "execution_count": 19,
   "metadata": {},
   "outputs": [
    {
     "name": "stdout",
     "output_type": "stream",
     "text": [
      "https://www.alexandermcqueen.com/kr/alexandermcqueen/online/남자/레디-투-웨어\n"
     ]
    }
   ],
   "source": [
    "url = url_load(\"KR\",\"Clothes\",\"Male\")"
   ]
  },
  {
   "cell_type": "markdown",
   "metadata": {},
   "source": [
    "## Crawl function"
   ]
  },
  {
   "cell_type": "code",
   "execution_count": 33,
   "metadata": {},
   "outputs": [],
   "source": [
    "def crawl(url, css):\n",
    "    driver = webdriver.Chrome(\"chromedriver\")\n",
    "    driver.get(url)\n",
    "    time.sleep(5)\n",
    "\n",
    "    result = pd.DataFrame(columns=(\"Product\", \"url\", \"image\"))\n",
    "\n",
    "    for i in range(0,80):\n",
    "        time.sleep(0.3)\n",
    "        driver.execute_script(\"window.scrollBy(0,500)\")\n",
    "\n",
    "    ## 상품정보, url, image\n",
    "    for index in range(1,250):\n",
    "        if(index % 10 == 0):\n",
    "            print(index)\n",
    "\n",
    "        try:\n",
    "            time.sleep(0.1)\n",
    "            product_inform = driver.find_element_by_css_selector(css+' > div > div.products.product-list > article:nth-child('+str(index)+')')\n",
    "            a1 = product_inform.get_attribute(\"data-ytos-track-product-data\")\n",
    "            time.sleep(0.1)\n",
    "\n",
    "            product_url = driver.find_element_by_css_selector(css+' > div > div.products.product-list > article:nth-child('+str(index)+') > a')\n",
    "            a2 = product_url.get_attribute(\"href\")\n",
    "            time.sleep(0.1)\n",
    "\n",
    "            img = driver.find_element_by_css_selector(css+' > div > div.products.product-list > article:nth-child('+str(index)+') > a > div.image > div > img')\n",
    "            a3 = img.get_attribute(\"src\")\n",
    "\n",
    "            time.sleep(0.1)\n",
    "\n",
    "            if(a3==None):\n",
    "                print(\"None\")\n",
    "\n",
    "\n",
    "\n",
    "            result.loc[index] = [a1, a2, a3]\n",
    "            time.sleep(0.1)\n",
    "\n",
    "\n",
    "        except NoSuchElementException:\n",
    "            time.sleep(0.1)\n",
    "\n",
    "    print(\"Complete!\")\n",
    "    return(result)"
   ]
  },
  {
   "cell_type": "code",
   "execution_count": 34,
   "metadata": {},
   "outputs": [],
   "source": [
    "## Url css 정리\n",
    "\n",
    "Female_clothes = '#llwmnrtw_glr'\n",
    "Female_shoes = '#w_shoes_micro'\n",
    "Female_bags = '#w_bags_micro'\n",
    "\n",
    "Male_clothes = '#llmnrtw_glr'\n",
    "Male_shoes = '#m_bags_spl'\n",
    "Male_bags = '#m_bags_spl'"
   ]
  },
  {
   "cell_type": "code",
   "execution_count": 36,
   "metadata": {},
   "outputs": [
    {
     "name": "stdout",
     "output_type": "stream",
     "text": [
      "https://www.alexandermcqueen.com/kr/alexandermcqueen/online/남자/레디-투-웨어\n"
     ]
    }
   ],
   "source": [
    "url = url_load(\"KR\",\"Clothes\",\"Male\")"
   ]
  },
  {
   "cell_type": "code",
   "execution_count": null,
   "metadata": {},
   "outputs": [],
   "source": [
    "result = crawl(url, Male_clothes)"
   ]
  },
  {
   "cell_type": "code",
   "execution_count": 190,
   "metadata": {},
   "outputs": [],
   "source": [
    "result.to_csv('database/alexandermcqueen/KR/male_clothes.csv', encoding=\"ms949\")"
   ]
  }
 ],
 "metadata": {
  "kernelspec": {
   "display_name": "Python 3",
   "language": "python",
   "name": "python3"
  },
  "language_info": {
   "codemirror_mode": {
    "name": "ipython",
    "version": 3
   },
   "file_extension": ".py",
   "mimetype": "text/x-python",
   "name": "python",
   "nbconvert_exporter": "python",
   "pygments_lexer": "ipython3",
   "version": "3.6.4"
  }
 },
 "nbformat": 4,
 "nbformat_minor": 2
}

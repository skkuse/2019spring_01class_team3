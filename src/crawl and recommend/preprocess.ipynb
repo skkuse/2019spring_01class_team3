{
 "cells": [
  {
   "cell_type": "markdown",
   "metadata": {},
   "source": [
    "### 코드 작성자: 한대룡\n",
    "### 기능: 크롤링한 데이터를 전처리하고, 이미지 추출하여 다운받는 기능"
   ]
  },
  {
   "cell_type": "markdown",
   "metadata": {},
   "source": [
    "## Preprocess"
   ]
  },
  {
   "cell_type": "code",
   "execution_count": 64,
   "metadata": {},
   "outputs": [],
   "source": [
    "import pandas as pd\n",
    "import os\n",
    "import warnings\n",
    "warnings.filterwarnings(action='ignore')\n",
    "import urllib.request"
   ]
  },
  {
   "cell_type": "markdown",
   "metadata": {},
   "source": [
    "## Alexander"
   ]
  },
  {
   "cell_type": "code",
   "execution_count": 88,
   "metadata": {},
   "outputs": [],
   "source": [
    "def alexander_preprocess(dat, Country, Category, Gender):\n",
    "    \n",
    "    dat[\"pcode\"] = ''\n",
    "    dat[\"pname\"] = ''\n",
    "    dat['brand'] = ''\n",
    "    dat[\"color\"] = ''\n",
    "    dat[\"price\"] = 0\n",
    "\n",
    "    for i in range(0,len(dat)):\n",
    "        spt = dat[\"Product\"][i].split(\",\")\n",
    "        \n",
    "        pcode = spt[1]\n",
    "        pcode = pcode.replace('\"product_cod10\":','',1)\n",
    "        pcode = pcode[1:(len(pcode)-1)]\n",
    "\n",
    "        pname = spt[2]\n",
    "        pname = pname.replace('\"product_title\":','',1)\n",
    "        pname = pname[1:(len(pname)-1)]\n",
    "\n",
    "        brand = spt[3]\n",
    "        brand = brand.replace('\"product_brand\":','',1)\n",
    "        brand = brand[1:(len(brand)-1)]\n",
    "\n",
    "        color = spt[9]\n",
    "        color = color.replace('\"product_color\":','',1)\n",
    "        color = color[1:(len(color)-1)]\n",
    "\n",
    "        price = spt[11]\n",
    "        price = price.replace('\"product_price\":','',1)\n",
    "                \n",
    "        dat[\"pcode\"][i] = pcode\n",
    "        dat[\"pname\"][i] = pname\n",
    "        dat[\"brand\"][i] = brand\n",
    "        dat[\"color\"][i] = color\n",
    "        dat[\"price\"][i] = price\n",
    "        \n",
    "    dat = dat.drop(['Product'], 1)\n",
    "\n",
    "    dat[\"Category\"] = Category\n",
    "    dat[\"Country\"] = Country\n",
    "    dat[\"Gender\"] = Gender\n",
    "        \n",
    "    return(dat)"
   ]
  },
  {
   "cell_type": "code",
   "execution_count": 89,
   "metadata": {},
   "outputs": [],
   "source": [
    "dat = pd.read_csv('database/alexandermcqueen/JP/female_shoes.csv')\n",
    "dat = dat.drop(['Unnamed: 0'], 1)\n",
    "\n",
    "preprocess = alexander_preprocess(dat, \"JP\", \"Shoes\", \"Female\")"
   ]
  },
  {
   "cell_type": "code",
   "execution_count": 73,
   "metadata": {},
   "outputs": [],
   "source": [
    "preprocess.to_csv(\"database/final/alex_JP_female_shoes.csv\", index=False)"
   ]
  },
  {
   "cell_type": "raw",
   "metadata": {},
   "source": [
    "KR_result.to_csv(\"final/Alex_KR_result.csv\", index=False, encoding=\"ms949\")"
   ]
  },
  {
   "cell_type": "markdown",
   "metadata": {},
   "source": [
    "## Valentino"
   ]
  },
  {
   "cell_type": "code",
   "execution_count": 38,
   "metadata": {},
   "outputs": [],
   "source": [
    "def valentino_preprocess(dat, Country, Category, Gender):\n",
    "    \n",
    "    dat[\"pcode\"] = ''\n",
    "    dat[\"pname\"] = ''\n",
    "    dat['brand'] = ''\n",
    "    dat[\"color\"] = ''\n",
    "    dat[\"price\"] = 0\n",
    "\n",
    "    for i in range(0,len(dat)):\n",
    "        spt = dat[\"Product\"][i].split(\",\")\n",
    "        \n",
    "        if(len(spt)==26):\n",
    "            pcode = spt[14]\n",
    "            pname = spt[1]\n",
    "            brand = spt[2]\n",
    "            color = spt[9]\n",
    "            price = spt[11]\n",
    "        else:\n",
    "            pcode = spt[15]\n",
    "            pname = spt[1]\n",
    "            brand = spt[2]\n",
    "            color = spt[10]\n",
    "            price = spt[12]\n",
    "            \n",
    "        \n",
    "\n",
    "        pcode = pcode.replace('\"product_id\":','',1)\n",
    "        pcode = pcode[1:(len(pcode)-1)]\n",
    "       \n",
    "        pname = pname.replace('\"product_title\":','',1)\n",
    "        pname = pname[1:(len(pname)-1)]\n",
    "\n",
    "        brand = brand.replace('\"product_brand\":','',1)\n",
    "        brand = brand[1:(len(brand)-1)]\n",
    "\n",
    "        color = color.replace('\"product_color\":','',1)\n",
    "        color = color[1:(len(color)-1)]\n",
    "\n",
    "        price = price.replace('\"product_discountedPrice\":','',1)\n",
    "                \n",
    "        dat[\"pcode\"][i] = pcode\n",
    "        dat[\"pname\"][i] = pname\n",
    "        dat[\"brand\"][i] = brand\n",
    "        dat[\"color\"][i] = color\n",
    "        dat[\"price\"][i] = price\n",
    "        \n",
    "        \n",
    "    \n",
    "    dat = dat.drop(['Product'], 1)\n",
    "    dat[\"Category\"] = Category\n",
    "    dat[\"Country\"] = Country\n",
    "    dat[\"Gender\"] = Gender\n",
    "        \n",
    "    return(dat)"
   ]
  },
  {
   "cell_type": "code",
   "execution_count": 57,
   "metadata": {
    "scrolled": true
   },
   "outputs": [],
   "source": [
    "dat = pd.read_csv('database/valentino/JP/female_shoes.csv')\n",
    "dat = dat.drop(['Unnamed: 0'], 1)\n",
    "\n",
    "preprocess = valentino_preprocess(dat, \"JP\", \"Shoes\", \"Female\")"
   ]
  },
  {
   "cell_type": "code",
   "execution_count": 58,
   "metadata": {},
   "outputs": [],
   "source": [
    "preprocess.to_csv(\"database/final/valen_JP_female_shoes.csv\", index=False)"
   ]
  },
  {
   "cell_type": "markdown",
   "metadata": {},
   "source": [
    "## Balenciaga"
   ]
  },
  {
   "cell_type": "code",
   "execution_count": 133,
   "metadata": {},
   "outputs": [],
   "source": [
    "def balenciaga_preprocess(dat, Country, Category, Gender):\n",
    "        \n",
    "    dat[\"pcode\"] = ''\n",
    "    dat[\"pname\"] = ''\n",
    "    dat['brand'] = ''\n",
    "    dat[\"color\"] = ''\n",
    "    dat[\"price\"] = 0\n",
    "\n",
    "    for i in range(0,len(dat)):\n",
    "        spt = dat[\"Product\"][i].split(\",\")\n",
    "        \n",
    "        pcode = spt[1]\n",
    "        pcode = pcode.replace('\"product_cod10\":','',1)\n",
    "        pcode = pcode[1:(len(pcode)-1)]\n",
    "\n",
    "        pname = spt[2]\n",
    "        pname = pname.replace('\"product_title\":','',1)\n",
    "        pname = pname[1:(len(pname)-1)]\n",
    "\n",
    "        brand = spt[3]\n",
    "        brand = brand.replace('\"product_brand\":','',1)\n",
    "        brand = brand[1:(len(brand)-1)]\n",
    "\n",
    "        color = spt[9]\n",
    "        color = color.replace('\"product_color\":','',1)\n",
    "        color = color[1:(len(color)-1)]\n",
    "\n",
    "        price = spt[11]\n",
    "        price = price.replace('\"product_price\":','',1)\n",
    "                \n",
    "        dat[\"pcode\"][i] = pcode\n",
    "        dat[\"pname\"][i] = pname\n",
    "        dat[\"brand\"][i] = brand\n",
    "        dat[\"color\"][i] = color\n",
    "        dat[\"price\"][i] = price\n",
    "        \n",
    "        \n",
    "    \n",
    "    dat = dat.drop(['Product'], 1)\n",
    "    dat[\"Category\"] = Category\n",
    "    dat[\"Country\"] = Country\n",
    "    dat[\"Gender\"] = Gender\n",
    "        \n",
    "    return(dat)"
   ]
  },
  {
   "cell_type": "code",
   "execution_count": 182,
   "metadata": {},
   "outputs": [],
   "source": [
    "dat = pd.read_csv('database/balenciaga/JP/male_clothes.csv')\n",
    "dat = dat.drop(['Unnamed: 0'], 1)\n",
    "\n",
    "preprocess = balenciaga_preprocess(dat, \"JP\", \"Ready to wear\", \"Male\")"
   ]
  },
  {
   "cell_type": "code",
   "execution_count": 183,
   "metadata": {},
   "outputs": [],
   "source": [
    "preprocess.to_csv(\"database/final/balen_JP_male_wear.csv\", index=False)"
   ]
  },
  {
   "cell_type": "markdown",
   "metadata": {},
   "source": [
    "## Merge"
   ]
  },
  {
   "cell_type": "code",
   "execution_count": 131,
   "metadata": {},
   "outputs": [],
   "source": [
    "file_list = os.listdir('database/final')"
   ]
  },
  {
   "cell_type": "code",
   "execution_count": 132,
   "metadata": {},
   "outputs": [],
   "source": [
    "result = pd.read_csv('database/final/'+file_list[0])\n",
    "for i in file_list[1:]:\n",
    "    result = result.append(pd.read_csv('database/final/'+i))"
   ]
  },
  {
   "cell_type": "code",
   "execution_count": 133,
   "metadata": {},
   "outputs": [],
   "source": [
    "result = result.dropna()"
   ]
  },
  {
   "cell_type": "code",
   "execution_count": 134,
   "metadata": {},
   "outputs": [],
   "source": [
    "result[\"Country\"][result[\"Country\"] == \"KR\"] = \"01\"\n",
    "result[\"Country\"][result[\"Country\"] == \"US\"] = \"02\"\n",
    "result[\"Country\"][result[\"Country\"] == \"FR\"] = \"03\"\n",
    "result[\"Country\"][result[\"Country\"] == \"JP\"] = \"04\""
   ]
  },
  {
   "cell_type": "code",
   "execution_count": 135,
   "metadata": {},
   "outputs": [],
   "source": [
    "result = pd.DataFrame(result, columns=[\"pcode\",\"brand\",\"pname\",\"Category\",\"price\",\"url\",\"Country\",\"Gender\",\"image\"])"
   ]
  },
  {
   "cell_type": "code",
   "execution_count": 136,
   "metadata": {},
   "outputs": [],
   "source": [
    "result.rename(columns={'Category': 'category', 'Country': 'cid'}, inplace=True)"
   ]
  },
  {
   "cell_type": "code",
   "execution_count": 137,
   "metadata": {},
   "outputs": [
    {
     "data": {
      "text/html": [
       "<div>\n",
       "<style scoped>\n",
       "    .dataframe tbody tr th:only-of-type {\n",
       "        vertical-align: middle;\n",
       "    }\n",
       "\n",
       "    .dataframe tbody tr th {\n",
       "        vertical-align: top;\n",
       "    }\n",
       "\n",
       "    .dataframe thead th {\n",
       "        text-align: right;\n",
       "    }\n",
       "</style>\n",
       "<table border=\"1\" class=\"dataframe\">\n",
       "  <thead>\n",
       "    <tr style=\"text-align: right;\">\n",
       "      <th></th>\n",
       "      <th>pcode</th>\n",
       "      <th>brand</th>\n",
       "      <th>pname</th>\n",
       "      <th>category</th>\n",
       "      <th>price</th>\n",
       "      <th>url</th>\n",
       "      <th>cid</th>\n",
       "      <th>Gender</th>\n",
       "      <th>image</th>\n",
       "    </tr>\n",
       "  </thead>\n",
       "  <tbody>\n",
       "    <tr>\n",
       "      <th>0</th>\n",
       "      <td>54167455VO</td>\n",
       "      <td>ALEXANDER MCQUEEN</td>\n",
       "      <td>Jewelled Satchel avec araignée</td>\n",
       "      <td>Bags</td>\n",
       "      <td>1990</td>\n",
       "      <td>https://www.alexandermcqueen.com/fr/alexanderm...</td>\n",
       "      <td>03</td>\n",
       "      <td>Female</td>\n",
       "      <td>https://www.alexandermcqueen.com/63/54/5416745...</td>\n",
       "    </tr>\n",
       "    <tr>\n",
       "      <th>1</th>\n",
       "      <td>54167456EJ</td>\n",
       "      <td>ALEXANDER MCQUEEN</td>\n",
       "      <td>Jewelled Satchel avec araignée</td>\n",
       "      <td>Bags</td>\n",
       "      <td>1990</td>\n",
       "      <td>https://www.alexandermcqueen.com/fr/alexanderm...</td>\n",
       "      <td>03</td>\n",
       "      <td>Female</td>\n",
       "      <td>https://www.alexandermcqueen.com/63/54/5416745...</td>\n",
       "    </tr>\n",
       "    <tr>\n",
       "      <th>2</th>\n",
       "      <td>54167457SX</td>\n",
       "      <td>ALEXANDER MCQUEEN</td>\n",
       "      <td>Jewelled Satchel avec araignée</td>\n",
       "      <td>Bags</td>\n",
       "      <td>1990</td>\n",
       "      <td>https://www.alexandermcqueen.com/fr/alexanderm...</td>\n",
       "      <td>03</td>\n",
       "      <td>Female</td>\n",
       "      <td>https://www.alexandermcqueen.com/63/54/5416745...</td>\n",
       "    </tr>\n",
       "    <tr>\n",
       "      <th>3</th>\n",
       "      <td>54165576SO</td>\n",
       "      <td>ALEXANDER MCQUEEN</td>\n",
       "      <td>Jewelled Satchel</td>\n",
       "      <td>Bags</td>\n",
       "      <td>1990</td>\n",
       "      <td>https://www.alexandermcqueen.com/fr/alexanderm...</td>\n",
       "      <td>03</td>\n",
       "      <td>Female</td>\n",
       "      <td>https://www.alexandermcqueen.com/63/54/5416557...</td>\n",
       "    </tr>\n",
       "    <tr>\n",
       "      <th>4</th>\n",
       "      <td>54165577RW</td>\n",
       "      <td>ALEXANDER MCQUEEN</td>\n",
       "      <td>Jewelled Satchel</td>\n",
       "      <td>Bags</td>\n",
       "      <td>1990</td>\n",
       "      <td>https://www.alexandermcqueen.com/fr/alexanderm...</td>\n",
       "      <td>03</td>\n",
       "      <td>Female</td>\n",
       "      <td>https://www.alexandermcqueen.com/63/54/5416557...</td>\n",
       "    </tr>\n",
       "  </tbody>\n",
       "</table>\n",
       "</div>"
      ],
      "text/plain": [
       "        pcode              brand                           pname category  \\\n",
       "0  54167455VO  ALEXANDER MCQUEEN  Jewelled Satchel avec araignée     Bags   \n",
       "1  54167456EJ  ALEXANDER MCQUEEN  Jewelled Satchel avec araignée     Bags   \n",
       "2  54167457SX  ALEXANDER MCQUEEN  Jewelled Satchel avec araignée     Bags   \n",
       "3  54165576SO  ALEXANDER MCQUEEN                Jewelled Satchel     Bags   \n",
       "4  54165577RW  ALEXANDER MCQUEEN                Jewelled Satchel     Bags   \n",
       "\n",
       "  price                                                url cid  Gender  \\\n",
       "0  1990  https://www.alexandermcqueen.com/fr/alexanderm...  03  Female   \n",
       "1  1990  https://www.alexandermcqueen.com/fr/alexanderm...  03  Female   \n",
       "2  1990  https://www.alexandermcqueen.com/fr/alexanderm...  03  Female   \n",
       "3  1990  https://www.alexandermcqueen.com/fr/alexanderm...  03  Female   \n",
       "4  1990  https://www.alexandermcqueen.com/fr/alexanderm...  03  Female   \n",
       "\n",
       "                                               image  \n",
       "0  https://www.alexandermcqueen.com/63/54/5416745...  \n",
       "1  https://www.alexandermcqueen.com/63/54/5416745...  \n",
       "2  https://www.alexandermcqueen.com/63/54/5416745...  \n",
       "3  https://www.alexandermcqueen.com/63/54/5416557...  \n",
       "4  https://www.alexandermcqueen.com/63/54/5416557...  "
      ]
     },
     "execution_count": 137,
     "metadata": {},
     "output_type": "execute_result"
    }
   ],
   "source": [
    "result.head()"
   ]
  },
  {
   "cell_type": "code",
   "execution_count": 138,
   "metadata": {},
   "outputs": [],
   "source": [
    "for i in range(0,len(result)):\n",
    "    if(\"900w\" in result[\"image\"].iloc[i]):\n",
    "        dat = result[\"image\"].iloc[i]\n",
    "        dat = dat[0:dat.find(\"900w\")-1]\n",
    "        result[\"image\"].iloc[i] = dat\n",
    "        \n",
    "    elif(\"480w\" in result[\"image\"].iloc[i]):\n",
    "        dat = result[\"image\"].iloc[i]\n",
    "        dat = dat[0:dat.find(\"480w\")-1]\n",
    "        result[\"image\"].iloc[i] = dat"
   ]
  },
  {
   "cell_type": "code",
   "execution_count": 139,
   "metadata": {},
   "outputs": [],
   "source": [
    "result.to_excel('total.xlsx', index=False)"
   ]
  },
  {
   "cell_type": "markdown",
   "metadata": {},
   "source": [
    "## Image down"
   ]
  },
  {
   "cell_type": "code",
   "execution_count": 140,
   "metadata": {},
   "outputs": [],
   "source": [
    "image_down = result[result[\"cid\"] == \"01\"]"
   ]
  },
  {
   "cell_type": "code",
   "execution_count": 141,
   "metadata": {},
   "outputs": [],
   "source": [
    "for i in range(0,len(image_down)):\n",
    "    image_down[\"image\"].iloc[i] = image_down[\"image\"].iloc[i].replace(\"a_g.jpg\",\"a_f.jpg\",1)"
   ]
  },
  {
   "cell_type": "code",
   "execution_count": 142,
   "metadata": {
    "scrolled": true
   },
   "outputs": [
    {
     "name": "stdout",
     "output_type": "stream",
     "text": [
      "where?  0\n",
      "where?  100\n",
      "where?  200\n",
      "where?  300\n",
      "where?  400\n",
      "where?  500\n",
      "where?  600\n",
      "where?  700\n",
      "where?  800\n",
      "where?  900\n",
      "where?  1000\n",
      "where?  1100\n",
      "where?  1200\n",
      "where?  1300\n",
      "where?  1400\n",
      "where?  1500\n",
      "where?  1600\n",
      "where?  1700\n",
      "where?  1800\n",
      "where?  1900\n",
      "where?  2000\n",
      "complete\n"
     ]
    }
   ],
   "source": [
    "for i in range(0, len(image_down)):\n",
    "    if(i % 100 == 0):\n",
    "        print(\"where? \", i)\n",
    "    \n",
    "    pcode = str(image_down[\"pcode\"].iloc[i])\n",
    "    fullUrl = image_down[\"image\"].iloc[i]\n",
    "    req = urllib.request.Request(fullUrl, headers={'User-Agent': 'Mozilla/5.0'})\n",
    "    response = urllib.request.urlopen(req).read()\n",
    "    \n",
    "    with open(\"image/\"+pcode+\".png\", mode=\"wb\") as f:\n",
    "        f.write(response)\n",
    "        \n",
    "print(\"complete\")"
   ]
  }
 ],
 "metadata": {
  "kernelspec": {
   "display_name": "Python 3",
   "language": "python",
   "name": "python3"
  },
  "language_info": {
   "codemirror_mode": {
    "name": "ipython",
    "version": 3
   },
   "file_extension": ".py",
   "mimetype": "text/x-python",
   "name": "python",
   "nbconvert_exporter": "python",
   "pygments_lexer": "ipython3",
   "version": "3.6.4"
  }
 },
 "nbformat": 4,
 "nbformat_minor": 2
}

{
 "cells": [
  {
   "cell_type": "markdown",
   "metadata": {},
   "source": [
    "### 코드 작성자: 한대룡\n",
    "### 기능: Valentino 사이트를 크롤링하는 기능"
   ]
  },
  {
   "cell_type": "markdown",
   "metadata": {},
   "source": [
    "## Valentino"
   ]
  },
  {
   "cell_type": "code",
   "execution_count": 13,
   "metadata": {},
   "outputs": [],
   "source": [
    "from selenium import webdriver\n",
    "from selenium.webdriver.common.keys import Keys\n",
    "from bs4 import BeautifulSoup\n",
    "import numpy as np\n",
    "import time\n",
    "from selenium.common.exceptions import NoSuchElementException,StaleElementReferenceException\n",
    "import urllib.request\n",
    "import pandas as pd"
   ]
  },
  {
   "cell_type": "markdown",
   "metadata": {},
   "source": [
    "## Url load"
   ]
  },
  {
   "cell_type": "code",
   "execution_count": 14,
   "metadata": {},
   "outputs": [],
   "source": [
    "def url_load(Country, Category, Gender):\n",
    "    url = 'https://www.valentino.com'\n",
    "\n",
    "    if(Country == \"KR\"):\n",
    "        country = \"ko-kr\"\n",
    "        \n",
    "        if(Category == \"Clothes\"):\n",
    "            category = \"의류\"\n",
    "        elif(Category ==\"Shoes\"):\n",
    "            category = \"슈즈\"\n",
    "        elif(Category ==\"Bags\"):\n",
    "            category = \"백\"\n",
    "        \n",
    "        if(Gender == \"Male\"):\n",
    "            gender = \"남자\"\n",
    "        elif(Gender ==\"Female\"):\n",
    "            gender = \"여성\"\n",
    "        \n",
    "        \n",
    "    elif(Country == \"US\"):\n",
    "        country = \"en-us\"\n",
    "        \n",
    "        if(Category == \"Clothes\"):\n",
    "            category = \"apparel\"\n",
    "        elif(Category ==\"Shoes\"):\n",
    "            category = \"shoes\"\n",
    "        elif(Category ==\"Bags\"):\n",
    "            category = \"bags\"\n",
    "        \n",
    "        if(Gender == \"Male\"):\n",
    "            gender = \"men\"\n",
    "        elif(Gender ==\"Female\"):\n",
    "            gender = \"women\"\n",
    "        \n",
    "        \n",
    "    elif(Country == \"FR\"):\n",
    "        country = \"fr-fr\"\n",
    "        \n",
    "        if(Category == \"Clothes\"):\n",
    "            category = \"habillementr\"\n",
    "        elif(Category ==\"Shoes\"):\n",
    "            category = \"chaussures\"\n",
    "        elif(Category ==\"Bags\"):\n",
    "            category = \"sacs\"\n",
    "        \n",
    "        if(Gender == \"Male\"):\n",
    "            gender = \"homme\"\n",
    "        elif(Gender ==\"Female\"):\n",
    "            gender = \"femme\"\n",
    "        \n",
    "        \n",
    "    elif(Country == \"JP\"):\n",
    "        country = \"ja-jp\"\n",
    "        \n",
    "        if(Category == \"Clothes\"):\n",
    "            category = \"ウェア\"\n",
    "        elif(Category ==\"Shoes\"):\n",
    "            category = \"シューズ\"\n",
    "        elif(Category ==\"Bags\"):\n",
    "            category = \"バッグ\"\n",
    "        \n",
    "        if(Gender == \"Male\"):\n",
    "            gender = \"メンズ\"\n",
    "        elif(Gender ==\"Female\"):\n",
    "            gender = \"レディース\"\n",
    "        \n",
    "    url = url + \"/\" + country + \"/\" + gender + \"/\" + category\n",
    "    \n",
    "    print(url)\n",
    "    return(url)"
   ]
  },
  {
   "cell_type": "code",
   "execution_count": 9,
   "metadata": {},
   "outputs": [
    {
     "name": "stdout",
     "output_type": "stream",
     "text": [
      "https://www.valentino.com/ko-kr/남자/의류\n"
     ]
    }
   ],
   "source": [
    "url = url_load(\"KR\",\"Clothes\",\"Male\")"
   ]
  },
  {
   "cell_type": "markdown",
   "metadata": {},
   "source": [
    "## Crawl Function"
   ]
  },
  {
   "cell_type": "code",
   "execution_count": 16,
   "metadata": {},
   "outputs": [],
   "source": [
    "##옷, 가방, 신발 css_selector 동일\n",
    "\n",
    "def crawl(url):\n",
    "    driver = webdriver.Chrome(\"chromedriver\")\n",
    "    driver.get(url)\n",
    "    time.sleep(5)\n",
    "\n",
    "\n",
    "    for i in range(0,30):\n",
    "        time.sleep(0.1)\n",
    "        driver.execute_script(\"window.scrollBy(0,500)\")\n",
    "\n",
    "    time.sleep(0.1)\n",
    "    driver.execute_script(\"window.scrollBy(0,-500)\")\n",
    "\n",
    "    close = driver.find_element_by_xpath('//*[@id=\"search\"]/div[2]/div/div/div/div[2]')\n",
    "    close.click()\n",
    "    time.sleep(0.5)\n",
    "\n",
    "    button = driver.find_element_by_xpath('//*[@id=\"contentWrapper\"]/main/section/button')\n",
    "    button.click()\n",
    "\n",
    "    time.sleep(1)\n",
    "\n",
    "    for i in range(1,100):\n",
    "        time.sleep(0.3)\n",
    "        driver.execute_script(\"window.scrollBy(0,500)\")\n",
    "\n",
    "    for i in range(1,100):\n",
    "        time.sleep(0.3)\n",
    "        driver.execute_script(\"window.scrollBy(0,-500)\")\n",
    "\n",
    "\n",
    "    ### chroll start ###\n",
    "    result = pd.DataFrame(columns=(\"Product\", \"url\", \"image\"))\n",
    "    pos = 0\n",
    "\n",
    "    for index in range(2, 45):\n",
    "        if(index % 5 ==0):\n",
    "            print(\"where? \", index)\n",
    "        for count in range(2, 45):\n",
    "            try:\n",
    "                product_inform = driver.find_element_by_css_selector('#wrapper-product-lists > div:nth-child('+str(index)+') > li:nth-child('+str(count)+') > figure')\n",
    "                a1 = product_inform.get_attribute(\"data-ytos-track-product-data\")\n",
    "                time.sleep(0.1)\n",
    "\n",
    "                product_url = driver.find_element_by_css_selector('#wrapper-product-lists > div:nth-child('+str(index)+') > li:nth-child('+str(count)+') > figure > a.item__wrapperImage')\n",
    "                a2 = product_url.get_attribute(\"href\")\n",
    "                time.sleep(0.1)\n",
    "\n",
    "                img = driver.find_element_by_css_selector('#wrapper-product-lists > div:nth-child('+str(index)+') > li:nth-child('+str(count)+') > figure > a.item__wrapperImage > img.itemImage.frontImage.loaded')\n",
    "                a3 = img.get_attribute(\"srcset\")\n",
    "                time.sleep(0.1)\n",
    "\n",
    "                if(a3==None):\n",
    "                    print(\"None\")\n",
    "\n",
    "                result.loc[pos] = [a1, a2, a3]\n",
    "                pos = pos + 1\n",
    "\n",
    "                time.sleep(0.1)\n",
    "\n",
    "            except NoSuchElementException:\n",
    "                break\n",
    "\n",
    "    print(\"complete\")\n",
    "    return(result)\n",
    "    "
   ]
  },
  {
   "cell_type": "code",
   "execution_count": 17,
   "metadata": {},
   "outputs": [
    {
     "name": "stdout",
     "output_type": "stream",
     "text": [
      "https://www.valentino.com/ko-kr/남자/의류\n"
     ]
    }
   ],
   "source": [
    "url = url_load(\"KR\",\"Clothes\",\"Male\")"
   ]
  },
  {
   "cell_type": "code",
   "execution_count": null,
   "metadata": {},
   "outputs": [],
   "source": [
    "result = crawl(url)"
   ]
  },
  {
   "cell_type": "code",
   "execution_count": 10,
   "metadata": {},
   "outputs": [],
   "source": [
    "result.to_csv('database/valentino/KR/male_clothes.csv', encoding=\"ms949\")"
   ]
  }
 ],
 "metadata": {
  "kernelspec": {
   "display_name": "Python 3",
   "language": "python",
   "name": "python3"
  },
  "language_info": {
   "codemirror_mode": {
    "name": "ipython",
    "version": 3
   },
   "file_extension": ".py",
   "mimetype": "text/x-python",
   "name": "python",
   "nbconvert_exporter": "python",
   "pygments_lexer": "ipython3",
   "version": "3.6.4"
  }
 },
 "nbformat": 4,
 "nbformat_minor": 2
}
